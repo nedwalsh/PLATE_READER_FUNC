{
 "cells": [
  {
   "cell_type": "code",
   "execution_count": 3,
   "metadata": {},
   "outputs": [],
   "source": [
    "import glob\n",
    "import cv2\n",
    "from matplotlib import pyplot as plt\n",
    "import numpy as np\n",
    "import Plate_Reader_Functions\n",
    "import os\n",
    "import importlib"
   ]
  },
  {
   "cell_type": "code",
   "execution_count": 76,
   "metadata": {},
   "outputs": [],
   "source": [
    "directory = \"\\\\\\\\fs1-bne.nexus.csiro.au\\\\{af-plateimager}\\\\source\\\\231027_095923_anti-vert_methanolic_extracts_27-10-23\\\\231027_095923_Plate 1\"\n",
    "os.chdir(directory)\n",
    "file_list = glob.glob('*.tif')"
   ]
  },
  {
   "cell_type": "code",
   "execution_count": 9,
   "metadata": {},
   "outputs": [
    {
     "name": "stdout",
     "output_type": "stream",
     "text": [
      "['A10_01_1_1_GFP_001.tif', 'A10_01_2_1_Bright Field_001.tif', 'A11_01_1_1_GFP_001.tif', 'A11_01_2_1_Bright Field_001.tif', 'A12_01_1_1_GFP_001.tif', 'A12_01_2_1_Bright Field_001.tif', 'A1_01_1_1_GFP_001.tif', 'A1_01_2_1_Bright Field_001.tif', 'A2_01_1_1_GFP_001.tif', 'A2_01_2_1_Bright Field_001.tif', 'A3_01_1_1_GFP_001.tif', 'A3_01_2_1_Bright Field_001.tif', 'A4_01_1_1_GFP_001.tif', 'A4_01_2_1_Bright Field_001.tif', 'A5_01_1_1_GFP_001.tif', 'A5_01_2_1_Bright Field_001.tif', 'A6_01_1_1_GFP_001.tif', 'A6_01_2_1_Bright Field_001.tif', 'A7_01_1_1_GFP_001.tif', 'A7_01_2_1_Bright Field_001.tif', 'A8_01_1_1_GFP_001.tif', 'A8_01_2_1_Bright Field_001.tif', 'A9_01_1_1_GFP_001.tif', 'A9_01_2_1_Bright Field_001.tif', 'B10_01_1_1_GFP_001.tif', 'B10_01_2_1_Bright Field_001.tif', 'B11_01_1_1_GFP_001.tif', 'B11_01_2_1_Bright Field_001.tif', 'B12_01_1_1_GFP_001.tif', 'B12_01_2_1_Bright Field_001.tif', 'B1_01_1_1_GFP_001.tif', 'B1_01_2_1_Bright Field_001.tif', 'B2_01_1_1_GFP_001.tif', 'B2_01_2_1_Bright Field_001.tif', 'B3_01_1_1_GFP_001.tif', 'B3_01_2_1_Bright Field_001.tif', 'B4_01_1_1_GFP_001.tif', 'B4_01_2_1_Bright Field_001.tif', 'B5_01_1_1_GFP_001.tif', 'B5_01_2_1_Bright Field_001.tif', 'B6_01_1_1_GFP_001.tif', 'B6_01_2_1_Bright Field_001.tif', 'B7_01_1_1_GFP_001.tif', 'B7_01_2_1_Bright Field_001.tif', 'B8_01_1_1_GFP_001.tif', 'B8_01_2_1_Bright Field_001.tif', 'B9_01_1_1_GFP_001.tif', 'B9_01_2_1_Bright Field_001.tif', 'C10_01_1_1_GFP_001.tif', 'C10_01_2_1_Bright Field_001.tif', 'C11_01_1_1_GFP_001.tif', 'C11_01_2_1_Bright Field_001.tif', 'C12_01_1_1_GFP_001.tif', 'C12_01_2_1_Bright Field_001.tif', 'C1_01_1_1_GFP_001.tif', 'C1_01_2_1_Bright Field_001.tif', 'C2_01_1_1_GFP_001.tif', 'C2_01_2_1_Bright Field_001.tif', 'C3_01_1_1_GFP_001.tif', 'C3_01_2_1_Bright Field_001.tif', 'C4_01_1_1_GFP_001.tif', 'C4_01_2_1_Bright Field_001.tif', 'C5_01_1_1_GFP_001.tif', 'C5_01_2_1_Bright Field_001.tif', 'C6_01_1_1_GFP_001.tif', 'C6_01_2_1_Bright Field_001.tif', 'C7_01_1_1_GFP_001.tif', 'C7_01_2_1_Bright Field_001.tif', 'C8_01_1_1_GFP_001.tif', 'C8_01_2_1_Bright Field_001.tif', 'C9_01_1_1_GFP_001.tif', 'C9_01_2_1_Bright Field_001.tif', 'D10_01_1_1_GFP_001.tif', 'D10_01_2_1_Bright Field_001.tif', 'D11_01_1_1_GFP_001.tif', 'D11_01_2_1_Bright Field_001.tif', 'D12_01_1_1_GFP_001.tif', 'D12_01_2_1_Bright Field_001.tif', 'D1_01_1_1_GFP_001.tif', 'D1_01_2_1_Bright Field_001.tif', 'D2_01_1_1_GFP_001.tif', 'D2_01_2_1_Bright Field_001.tif', 'D3_01_1_1_GFP_001.tif', 'D3_01_2_1_Bright Field_001.tif', 'D4_01_1_1_GFP_001.tif', 'D4_01_2_1_Bright Field_001.tif', 'D5_01_1_1_GFP_001.tif', 'D5_01_2_1_Bright Field_001.tif', 'D6_01_1_1_GFP_001.tif', 'D6_01_2_1_Bright Field_001.tif', 'D7_01_1_1_GFP_001.tif', 'D7_01_2_1_Bright Field_001.tif', 'D8_01_1_1_GFP_001.tif', 'D8_01_2_1_Bright Field_001.tif', 'D9_01_1_1_GFP_001.tif', 'D9_01_2_1_Bright Field_001.tif', 'E10_01_1_1_GFP_001.tif', 'E10_01_2_1_Bright Field_001.tif', 'E11_01_1_1_GFP_001.tif', 'E11_01_2_1_Bright Field_001.tif', 'E12_01_1_1_GFP_001.tif', 'E12_01_2_1_Bright Field_001.tif', 'E1_01_1_1_GFP_001.tif', 'E1_01_2_1_Bright Field_001.tif', 'E2_01_1_1_GFP_001.tif', 'E2_01_2_1_Bright Field_001.tif', 'E3_01_1_1_GFP_001.tif', 'E3_01_2_1_Bright Field_001.tif', 'E4_01_1_1_GFP_001.tif', 'E4_01_2_1_Bright Field_001.tif', 'E5_01_1_1_GFP_001.tif', 'E5_01_2_1_Bright Field_001.tif', 'E6_01_1_1_GFP_001.tif', 'E6_01_2_1_Bright Field_001.tif', 'E7_01_1_1_GFP_001.tif', 'E7_01_2_1_Bright Field_001.tif', 'E8_01_1_1_GFP_001.tif', 'E8_01_2_1_Bright Field_001.tif', 'E9_01_1_1_GFP_001.tif', 'E9_01_2_1_Bright Field_001.tif', 'F10_01_1_1_GFP_001.tif', 'F10_01_2_1_Bright Field_001.tif', 'F11_01_1_1_GFP_001.tif', 'F11_01_2_1_Bright Field_001.tif', 'F12_01_1_1_GFP_001.tif', 'F12_01_2_1_Bright Field_001.tif', 'F1_01_1_1_GFP_001.tif', 'F1_01_2_1_Bright Field_001.tif', 'F2_01_1_1_GFP_001.tif', 'F2_01_2_1_Bright Field_001.tif', 'F3_01_1_1_GFP_001.tif', 'F3_01_2_1_Bright Field_001.tif', 'F4_01_1_1_GFP_001.tif', 'F4_01_2_1_Bright Field_001.tif', 'F5_01_1_1_GFP_001.tif', 'F5_01_2_1_Bright Field_001.tif', 'F6_01_1_1_GFP_001.tif', 'F6_01_2_1_Bright Field_001.tif', 'F7_01_1_1_GFP_001.tif', 'F7_01_2_1_Bright Field_001.tif', 'F8_01_1_1_GFP_001.tif', 'F8_01_2_1_Bright Field_001.tif', 'F9_01_1_1_GFP_001.tif', 'F9_01_2_1_Bright Field_001.tif']\n"
     ]
    }
   ],
   "source": [
    "print(file_list)"
   ]
  },
  {
   "cell_type": "code",
   "execution_count": 77,
   "metadata": {},
   "outputs": [],
   "source": [
    "GFP_path = [i for i in file_list if \"GFP\" in i]\n",
    "BF_path = [i for i in file_list if \"Bright Field\" in i]\n",
    "\n",
    "BF_dict = Plate_Reader_Functions.file_list_to_dict(BF_path)\n",
    "GFP_dict = Plate_Reader_Functions.file_list_to_dict(GFP_path)\n",
    "\n",
    "BF_images = Plate_Reader_Functions.open_images_to_dict(BF_dict)\n",
    "GFP_images = Plate_Reader_Functions.open_images_to_dict(GFP_dict)"
   ]
  },
  {
   "cell_type": "code",
   "execution_count": 114,
   "metadata": {},
   "outputs": [],
   "source": [
    "def well_96_to_image(Output,file_list, threshold=\"optional\"):\n",
    "    BF_path = [i for i in file_list]\n",
    "    print(BF_path)\n",
    "    BF_dict = Plate_Reader_Functions.file_list_to_dict(BF_path)\n",
    "    print(BF_dict)\n",
    "    BF_images = Plate_Reader_Functions.open_images_to_dict(BF_dict)\n",
    "    if threshold != \"optional\":\n",
    "        Plate_Reader_Functions.plot_from_dict(Output, BF_dict, BF_images, threshold)\n",
    "    else:\n",
    "        Plate_Reader_Functions.plot_from_dict(Output, BF_dict, BF_images)"
   ]
  },
  {
   "cell_type": "code",
   "execution_count": 79,
   "metadata": {},
   "outputs": [],
   "source": [
    "os.chdir('C:\\\\Users\\\\wal763\\\\Documents\\\\local_copy\\\\Project_Files\\\\Plate Reader Tools')"
   ]
  },
  {
   "cell_type": "code",
   "execution_count": null,
   "metadata": {},
   "outputs": [],
   "source": [
    "#Plate_Reader_Functions.plot_from_dict(\"anti-vert-methanol_GFP\",GFP_dict, GFP_images, 200)\n",
    "Plate_Reader_Functions.plot_from_dict(\"anti-vert methal_BF\", BF_dict, BF_images)"
   ]
  },
  {
   "cell_type": "code",
   "execution_count": null,
   "metadata": {},
   "outputs": [],
   "source": [
    "directory = \"N:\\\\source\\\\231027_100841_MH243_GFP_Transformants_27-10-23\\\\231027_100841_Plate 1\"\n",
    "file_list = glob.glob(f'{directory}\\\\*Stitched\\\\*Bright Field*.tif')\n",
    "well_96_to_image(\"MH243_GFP_TEST\", file_list)"
   ]
  },
  {
   "cell_type": "code",
   "execution_count": 16,
   "metadata": {},
   "outputs": [],
   "source": [
    "directory = \"\\\\\\\\fs1-bne.nexus.csiro.au\\\\{af-plateimager}\\\\source\\\\231025_112509_GFP_transformants_test_25-10-23\"\n",
    "file_list = glob.glob(f'{directory}\\\\*\\\\*\\\\*Bright Field*.tif')\n",
    "GFP_List = glob.glob(f'{directory}\\\\*\\\\*\\\\*GFP*.tif')\n",
    "BF_dict = Plate_Reader_Functions.file_list_to_dict(file_list)\n",
    "GFP_dict = Plate_Reader_Functions.file_list_to_dict(GFP_List)"
   ]
  },
  {
   "cell_type": "code",
   "execution_count": 43,
   "metadata": {},
   "outputs": [],
   "source": [
    "Time_BF = Plate_Reader_Functions.time_order_dict(BF_dict, \"multi\")\n",
    "Time_GFP = Plate_Reader_Functions.time_order_dict(GFP_dict, \"multi\")"
   ]
  },
  {
   "cell_type": "code",
   "execution_count": null,
   "metadata": {},
   "outputs": [],
   "source": [
    "for key, val in Time_BF.items():\n",
    "    for time in val:\n",
    "        bf_images = val[time]\n",
    "        gfp_images = Time_GFP[key][time]\n",
    "        Plate_Reader_Functions.de_novo_kinetic_plot(bf_images, 2, 2, \"kinetic_test\", gfp_images)"
   ]
  },
  {
   "cell_type": "code",
   "execution_count": 94,
   "metadata": {},
   "outputs": [
    {
     "data": {
      "text/plain": [
       "<module 'Plate_Reader_Functions' from 'c:\\\\Users\\\\wal763\\\\Documents\\\\local_copy\\\\Project_Files\\\\Plate Reader Tools\\\\Plate_Reader_Functions.py'>"
      ]
     },
     "execution_count": 94,
     "metadata": {},
     "output_type": "execute_result"
    }
   ],
   "source": [
    "importlib.reload(Plate_Reader_Functions)"
   ]
  },
  {
   "cell_type": "code",
   "execution_count": null,
   "metadata": {},
   "outputs": [],
   "source": [
    "importlib.reload(Plate_Reader_Functions)\n",
    "\n",
    "Plate_Reader_Functions.de_novo_kinetic_plot(images1, 2, 2, \"kinetic_test\", images2)\n",
    "\n",
    "\"\"\"\n",
    "for key, val in Time_BF.items():\n",
    "    for image_set in val.values():\n",
    "        print(image_set)\n",
    "        \"\"\""
   ]
  },
  {
   "cell_type": "code",
   "execution_count": 92,
   "metadata": {},
   "outputs": [],
   "source": [
    "def extract_key(filename):\n",
    "    return int(filename.split('_')[-1].replace(\".JPG\", \"\"))\n",
    "\n",
    "moving_images = glob.glob(\"Results\\\\kinetic_test\\\\*jpg\")\n",
    "moving_images = sorted(moving_images, key=extract_key)"
   ]
  },
  {
   "cell_type": "code",
   "execution_count": 96,
   "metadata": {},
   "outputs": [],
   "source": [
    "Plate_Reader_Functions.create_video_from_images(moving_images, \"Results\\\\test_video.mp4\", 10)"
   ]
  }
 ],
 "metadata": {
  "kernelspec": {
   "display_name": "snowflakes",
   "language": "python",
   "name": "python3"
  },
  "language_info": {
   "codemirror_mode": {
    "name": "ipython",
    "version": 3
   },
   "file_extension": ".py",
   "mimetype": "text/x-python",
   "name": "python",
   "nbconvert_exporter": "python",
   "pygments_lexer": "ipython3",
   "version": "3.11.6"
  }
 },
 "nbformat": 4,
 "nbformat_minor": 2
}
